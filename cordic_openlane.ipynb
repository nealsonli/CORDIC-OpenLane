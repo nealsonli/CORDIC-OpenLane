{
  "cells": [
    {
      "cell_type": "code",
      "execution_count": null,
      "metadata": {
        "id": "QLP_-4olGBc-"
      },
      "outputs": [],
      "source": []
    },
    {
      "cell_type": "markdown",
      "metadata": {
        "id": "HkFeU0R-0hzi"
      },
      "source": [
        "# Coordinate Rotation Digital Computer (CORDIC) with OpenLane\n",
        "\n",
        "```\n",
        "Copyright 2022 Google LLC.\n",
        "SPDX-License-Identifier: Apache-2.0\n",
        "```\n",
        "\n"
      ]
    },
    {
      "cell_type": "markdown",
      "metadata": {
        "id": "Q9zgdlUHIQRb"
      },
      "source": [
        "## Agenda\n",
        "\n",
        "---\n",
        "\n",
        "In this notebook, you will learn what [CORDIC](https://en.wikipedia.org/wiki/CORDIC) is and how to implement a simple CORDIC design thru the [OpenLane](https://github.com/The-OpenROAD-Project/OpenLane/) GDS to RTL flow targeting the open source [SKY130 PDK](https://github.com/google/skywater-pdk/). Specifically the following things:\n",
        "\n",
        "\n",
        "*   What is CORDIC, How does it work, and What's special about it?\n",
        "*   How to run the simulation and how does the waveform look like?\n",
        "*   How to run end-to-end implementation?\n",
        "*   How does Layout look like?\n",
        "*   What's the metrics of CORDIC?\n",
        "\n",
        "Another main purpose of this notebook is to provide a good starting point if in the future you want to design something else, simply replace the verilog files and everything should be good to go.\n",
        "\n",
        "\n"
      ]
    },
    {
      "cell_type": "markdown",
      "metadata": {
        "id": "ZwVJP6cUHjZi"
      },
      "source": [
        "## Introduction\n",
        "---"
      ]
    },
    {
      "cell_type": "markdown",
      "metadata": {
        "id": "xdgDx9-AH6SH"
      },
      "source": [
        "### What is Coordinate Rotation Digital Computer (CORDIC)?"
      ]
    },
    {
      "cell_type": "markdown",
      "metadata": {
        "id": "_tUnURtsIeAN"
      },
      "source": [
        "### What's Special about CORDIC Hardware?"
      ]
    },
    {
      "cell_type": "markdown",
      "metadata": {
        "id": "OlovzYXWILUp"
      },
      "source": [
        "## Simulation\n"
      ]
    },
    {
      "cell_type": "markdown",
      "metadata": {
        "id": "uwUy5Z8oIuzi"
      },
      "source": [
        "### Testbench Structure"
      ]
    },
    {
      "cell_type": "markdown",
      "metadata": {
        "id": "4oQnRCVlIxTD"
      },
      "source": [
        "### Simulation Waveform"
      ]
    },
    {
      "cell_type": "markdown",
      "metadata": {
        "id": "EO2OYNzQIBZR"
      },
      "source": [
        "## Implementation\n"
      ]
    },
    {
      "cell_type": "code",
      "execution_count": null,
      "metadata": {
        "colab": {
          "base_uri": "https://localhost:8080/"
        },
        "id": "NC__X6Jph4CU",
        "outputId": "fb916334-1af2-4d31-99cd-2b0e933484c4"
      },
      "outputs": [],
      "source": [
        "#@title Install Dependencies {display-mode: \"form\"}\n",
        "#@markdown - Click the ▷ button to setup the digital design environment based on [conda-eda](https://github.com/hdl/conda-eda).\n",
        "\n",
        "openlane_version = 'latest' #@param {type:\"string\"}\n",
        "open_pdks_version = 'latest' #@param {type:\"string\"}\n",
        "\n",
        "if openlane_version == 'latest':\n",
        "  openlane_version = ''\n",
        "if open_pdks_version == 'latest':\n",
        "  open_pdks_version = ''\n",
        "\n",
        "import os\n",
        "import pathlib\n",
        "import sys\n",
        "\n",
        "!curl -Ls https://micro.mamba.pm/api/micromamba/linux-64/latest | tar -xj bin/micromamba\n",
        "conda_prefix_path = pathlib.Path('conda-env')\n",
        "site_package_path = conda_prefix_path / 'lib/python3.7/site-packages'\n",
        "sys.path.append(str(site_package_path.resolve()))\n",
        "CONDA_PREFIX = str(conda_prefix_path.resolve())\n",
        "PATH = os.environ['PATH']\n",
        "LD_LIBRARY_PATH = os.environ.get('LD_LIBRARY_PATH', '')\n",
        "%env CONDA_PREFIX={CONDA_PREFIX}\n",
        "%env PATH={CONDA_PREFIX}/bin:{PATH}\n",
        "%env LD_LIBRARY_PATH={CONDA_PREFIX}/lib:{LD_LIBRARY_PATH}\n",
        "!bin/micromamba create --yes --prefix $CONDA_PREFIX\n",
        "!echo 'python ==3.7*' >> {CONDA_PREFIX}/conda-meta/pinned\n",
        "!CI=0 bin/micromamba install --quiet --yes --prefix $CONDA_PREFIX \\\n",
        "                     --channel litex-hub \\\n",
        "                     --channel main \\\n",
        "                     openlane={openlane_version} \\\n",
        "                     open_pdks.sky130a={open_pdks_version}\n",
        "!CI=0 bin/micromamba install --quiet --yes --prefix $CONDA_PREFIX \\\n",
        "                     --channel conda-forge \\\n",
        "                     gdstk"
      ]
    },
    {
      "cell_type": "markdown",
      "metadata": {
        "id": "uINjDJNf39eD"
      },
      "source": [
        "### Write CORDIC Verilogs\n",
        "\n",
        "Since designing CORDIC from scratch is not the main target of this notebook, we have provided the verilog files under \"cordic/rtl\", the brief explanation of each files is as below\n",
        "\n",
        "\n",
        "\n",
        "*   `angle_adjust.v`: \n",
        "*   `cordic.include`: \n",
        "*   `cordic.v`: \n",
        "*   `cordic_config.v`: \n",
        "*   `cordic_constant.v`: \n",
        "*   `cordic_iteration.v`: \n",
        "*   `cordic_top.v`: \n",
        "*   `cordic_unit.v`: \n",
        "*   `scale.v`: \n",
        "\n"
      ]
    },
    {
      "cell_type": "markdown",
      "metadata": {
        "id": "g9n_Q77BYp-P"
      },
      "source": [
        "### Config CORDIC\n",
        "\n",
        "There are however some user-defined parameters that would affect the hardware cost, therefore we expose such configuration files to the users based on the preference.\n",
        "\n",
        "The parameters are:\n",
        "*   `NUM_ITER`:\n",
        "*   `NUM_STAGE`:\n",
        "*   `EN_SCALE`:"
      ]
    },
    {
      "cell_type": "code",
      "execution_count": null,
      "metadata": {
        "id": "P5MpqyR8L517"
      },
      "outputs": [],
      "source": [
        "#@markdown - Please fill in the parameters below and click the ▷ button to config your CORDIC\n",
        "\n",
        "NUM_ITER = 12 #@param {type:\"integer\"}\n",
        "NUM_STAGE = 4 #@param {type:\"integer\"}\n",
        "EN_SCALE = 1 #@param {type:\"integer\"}\n",
        "\n",
        "#@markdown - Not sure why but this cell and the next one was working\n"
      ]
    },
    {
      "cell_type": "code",
      "execution_count": null,
      "metadata": {
        "colab": {
          "base_uri": "https://localhost:8080/"
        },
        "id": "4dzly0ElP3Nc",
        "outputId": "67ba27de-4392-42fa-cb20-5cc3da6f06ea"
      },
      "outputs": [],
      "source": [
        "%%writefile cordic/rtl/cordic_config.v\n",
        "\n",
        "`ifndef __CORDIC_CONFIG__\n",
        "`define __CORDIC_CONFIG__\n",
        "\n",
        "   `define NUM_ITER  = 12\n",
        "   `define NUM_STAGE = 4\n",
        "   `define EN_SCALE  = 1\n",
        "\n",
        "`endif"
      ]
    },
    {
      "cell_type": "markdown",
      "metadata": {
        "id": "pI3gCBH04_0j"
      },
      "source": [
        "### Write OpenLane Flow Configuration\n",
        "\n",
        "For more information, please refer to [Documentation](https://openlane.readthedocs.io/en/latest/reference/configuration.html)."
      ]
    },
    {
      "cell_type": "code",
      "execution_count": null,
      "metadata": {
        "colab": {
          "base_uri": "https://localhost:8080/"
        },
        "id": "dq7GjXCM5EBZ",
        "outputId": "a68a6e83-eb03-41dc-f7aa-c80f2a885e52"
      },
      "outputs": [],
      "source": [
        "%%writefile config.json\n",
        "{\n",
        "    \"DESIGN_NAME\": \"cordic_top\",\n",
        "    \"VERILOG_FILES\": \"dir::cordic/rtl/*.v\",\n",
        "    \"CLOCK_PERIOD\": 10,\n",
        "    \"CLOCK_NET\": \"i_clk\",\n",
        "    \"CLOCK_PORT\": \"i_clk\",\n",
        "\n",
        "    \"FP_SIZING\": \"absolute\",\n",
        "    \"DIE_AREA\": \"0 0 500 500\"\n",
        "}"
      ]
    },
    {
      "cell_type": "markdown",
      "metadata": {
        "id": "Nrt1yS_u1_m4",
        "jp-MarkdownHeadingCollapsed": true,
        "tags": []
      },
      "source": [
        "### Run OpenLane Flow\n",
        "\n",
        "[OpenLane](https://openlane.readthedocs.io/en/latest/) is an automated [RTL](https://en.wikipedia.org/wiki/Register-transfer_level) to [GDSII](https://en.wikipedia.org/wiki/GDSII) flow based on several components including [OpenROAD](https://theopenroadproject.org/), [Yosys](https://yosyshq.net/yosys/), [Magic](http://www.opencircuitdesign.com/magic/), [Netgen](http://opencircuitdesign.com/netgen/) and custom methodology scripts for design exploration and optimization targeting [open source PDKs](https://github.com/google/open-source-pdks).\n",
        "\n",
        "![img](https://openlane.readthedocs.io/en/latest/_images/flow_v1.png)"
      ]
    },
    {
      "cell_type": "code",
      "execution_count": null,
      "metadata": {
        "colab": {
          "base_uri": "https://localhost:8080/"
        },
        "id": "VP60fdObiP15",
        "outputId": "c23798bb-844d-47d3-d3ac-a0a27766750e"
      },
      "outputs": [],
      "source": [
        "%env PDK=sky130A\n",
        "!flow.tcl -design ."
      ]
    },
    {
      "cell_type": "markdown",
      "metadata": {
        "id": "luguFgZ43AeL"
      },
      "source": [
        "### Display layout"
      ]
    },
    {
      "cell_type": "code",
      "execution_count": null,
      "metadata": {
        "colab": {
          "base_uri": "https://localhost:8080/"
        },
        "id": "WOnhdtp3ivRi",
        "outputId": "85bb2f88-dd54-44e5-c5a0-143f1547105b"
      },
      "outputs": [],
      "source": [
        "import pathlib\n",
        "import gdstk\n",
        "import IPython.display\n",
        "\n",
        "gdss = sorted(pathlib.Path('runs').glob('*/results/final/gds/*.gds'))\n",
        "library = gdstk.read_gds(gdss[-1])\n",
        "top_cells = library.top_level()\n",
        "top_cells[0].write_svg('cordic.svg')\n",
        "IPython.display.SVG('cordic.svg')"
      ]
    },
    {
      "cell_type": "markdown",
      "metadata": {
        "id": "NW_7YdgTZYQK"
      },
      "source": [
        "### Metrics\n",
        "\n",
        "For more information, please refer to [Documentation](https://openlane.readthedocs.io/en/latest/reference/datapoint_definitions.html).\n"
      ]
    },
    {
      "cell_type": "code",
      "execution_count": null,
      "metadata": {
        "id": "OWAwQI3fZC4W"
      },
      "outputs": [],
      "source": [
        "import pandas as pd\n",
        "import pathlib\n",
        "\n",
        "pd.options.display.max_rows = None\n",
        "final_summary_reports = sorted(pathlib.Path('runs').glob('*/reports/metrics.csv'))\n",
        "df = pd.read_csv(final_summary_reports[-1])\n",
        "df.transpose()"
      ]
    }
  ],
  "metadata": {
    "colab": {
      "provenance": [],
      "toc_visible": true
    },
    "kernelspec": {
      "display_name": "Python 3 (ipykernel)",
      "language": "python",
      "name": "python3"
    },
    "language_info": {
      "codemirror_mode": {
        "name": "ipython",
        "version": 3
      },
      "file_extension": ".py",
      "mimetype": "text/x-python",
      "name": "python",
      "nbconvert_exporter": "python",
      "pygments_lexer": "ipython3",
      "version": "3.7.10"
    }
  },
  "nbformat": 4,
  "nbformat_minor": 0
}
